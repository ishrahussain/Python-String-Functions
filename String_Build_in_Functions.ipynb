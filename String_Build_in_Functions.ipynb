{
 "cells": [
  {
   "cell_type": "markdown",
   "metadata": {},
   "source": [
    "# Build-in Functions of String in Python "
   ]
  },
  {
   "cell_type": "code",
   "execution_count": 1,
   "metadata": {},
   "outputs": [
    {
     "name": "stdout",
     "output_type": "stream",
     "text": [
      "Ishra Hussain\n",
      "PIAIC74543\n"
     ]
    }
   ],
   "source": [
    "print(\"Ishra Hussain\")\n",
    "print(\"PIAIC74543\")"
   ]
  },
  {
   "cell_type": "code",
   "execution_count": 2,
   "metadata": {},
   "outputs": [
    {
     "data": {
      "text/plain": [
       "['__add__',\n",
       " '__class__',\n",
       " '__contains__',\n",
       " '__delattr__',\n",
       " '__dir__',\n",
       " '__doc__',\n",
       " '__eq__',\n",
       " '__format__',\n",
       " '__ge__',\n",
       " '__getattribute__',\n",
       " '__getitem__',\n",
       " '__getnewargs__',\n",
       " '__gt__',\n",
       " '__hash__',\n",
       " '__init__',\n",
       " '__init_subclass__',\n",
       " '__iter__',\n",
       " '__le__',\n",
       " '__len__',\n",
       " '__lt__',\n",
       " '__mod__',\n",
       " '__mul__',\n",
       " '__ne__',\n",
       " '__new__',\n",
       " '__reduce__',\n",
       " '__reduce_ex__',\n",
       " '__repr__',\n",
       " '__rmod__',\n",
       " '__rmul__',\n",
       " '__setattr__',\n",
       " '__sizeof__',\n",
       " '__str__',\n",
       " '__subclasshook__',\n",
       " 'capitalize',\n",
       " 'casefold',\n",
       " 'center',\n",
       " 'count',\n",
       " 'encode',\n",
       " 'endswith',\n",
       " 'expandtabs',\n",
       " 'find',\n",
       " 'format',\n",
       " 'format_map',\n",
       " 'index',\n",
       " 'isalnum',\n",
       " 'isalpha',\n",
       " 'isascii',\n",
       " 'isdecimal',\n",
       " 'isdigit',\n",
       " 'isidentifier',\n",
       " 'islower',\n",
       " 'isnumeric',\n",
       " 'isprintable',\n",
       " 'isspace',\n",
       " 'istitle',\n",
       " 'isupper',\n",
       " 'join',\n",
       " 'ljust',\n",
       " 'lower',\n",
       " 'lstrip',\n",
       " 'maketrans',\n",
       " 'partition',\n",
       " 'replace',\n",
       " 'rfind',\n",
       " 'rindex',\n",
       " 'rjust',\n",
       " 'rpartition',\n",
       " 'rsplit',\n",
       " 'rstrip',\n",
       " 'split',\n",
       " 'splitlines',\n",
       " 'startswith',\n",
       " 'strip',\n",
       " 'swapcase',\n",
       " 'title',\n",
       " 'translate',\n",
       " 'upper',\n",
       " 'zfill']"
      ]
     },
     "execution_count": 2,
     "metadata": {},
     "output_type": "execute_result"
    }
   ],
   "source": [
    "dir(str)"
   ]
  },
  {
   "cell_type": "code",
   "execution_count": 55,
   "metadata": {},
   "outputs": [
    {
     "name": "stdout",
     "output_type": "stream",
     "text": [
      "i am student at PIAIC\n"
     ]
    },
    {
     "data": {
      "text/plain": [
       "str"
      ]
     },
     "execution_count": 55,
     "metadata": {},
     "output_type": "execute_result"
    }
   ],
   "source": [
    "note = \"i am student at PIAIC\"\n",
    "print(note)\n",
    "type(note)"
   ]
  },
  {
   "cell_type": "code",
   "execution_count": 2,
   "metadata": {},
   "outputs": [
    {
     "name": "stdout",
     "output_type": "stream",
     "text": [
      "I am student at piaic and i am learning ai\n"
     ]
    }
   ],
   "source": [
    "note = \"i am student at PIAIC and I am learning AI\"\n",
    "# Return a capitalized version of the string.    \n",
    "# More specifically, make the first character have upper case and the rest lower case.\n",
    "print(note.capitalize())"
   ]
  },
  {
   "cell_type": "code",
   "execution_count": 120,
   "metadata": {},
   "outputs": [
    {
     "name": "stdout",
     "output_type": "stream",
     "text": [
      "i am student at piaic and i am learning ai\n"
     ]
    }
   ],
   "source": [
    "note = \"i am student at PIAIC and I am learning AI\"\n",
    "# Return a version of the string suitable for caseless comparisons.\n",
    "print(note.casefold())"
   ]
  },
  {
   "cell_type": "code",
   "execution_count": 129,
   "metadata": {},
   "outputs": [
    {
     "name": "stdout",
     "output_type": "stream",
     "text": [
      "                             i am student at PIAIC and I am learning AI                             \n",
      "*****************************i am student at PIAIC and I am learning AI*****************************\n"
     ]
    }
   ],
   "source": [
    "note = \"i am student at PIAIC and I am learning AI\"\n",
    "#  Return a centered string of length width.\n",
    "print(note.center(100))\n",
    "#  Padding is done using the specified fill character (default is a space).\n",
    "print(note.center(100, '*'))"
   ]
  },
  {
   "cell_type": "code",
   "execution_count": 128,
   "metadata": {},
   "outputs": [
    {
     "name": "stdout",
     "output_type": "stream",
     "text": [
      "2\n"
     ]
    }
   ],
   "source": [
    "note = \"i am student at PIAIC and I am learning AI\"\n",
    "substr= \"am\"\n",
    "# Return the number of non-overlapping occurrences of substring in string \n",
    "print(note.count(substr[0:20]))"
   ]
  },
  {
   "cell_type": "code",
   "execution_count": 4,
   "metadata": {},
   "outputs": [
    {
     "name": "stdout",
     "output_type": "stream",
     "text": [
      "b'i am student at PIAIC and I am learning AI'\n"
     ]
    }
   ],
   "source": [
    "note = \"i am student at PIAIC and I am learning AI\"\n",
    "# Encode the string using the codec registered for encoding.\n",
    "print(note.encode('utf-8', 'strict'))"
   ]
  },
  {
   "cell_type": "code",
   "execution_count": 137,
   "metadata": {},
   "outputs": [
    {
     "name": "stdout",
     "output_type": "stream",
     "text": [
      "True\n"
     ]
    }
   ],
   "source": [
    "note = \"i am student at PIAIC and I am learning AI\"\n",
    "# Return True if String ends with the specified suffix, False otherwise.\n",
    "print(note.endswith(\"AI\"))"
   ]
  },
  {
   "cell_type": "code",
   "execution_count": 142,
   "metadata": {},
   "outputs": [
    {
     "name": "stdout",
     "output_type": "stream",
     "text": [
      "i am student at PIAIC and I am learning AI\n"
     ]
    }
   ],
   "source": [
    "note = \"i am student at PIAIC and I am learning AI\"\n",
    "# Return a copy where all tab characters are expanded using spaces.\n",
    "print(note.expandtabs(8))"
   ]
  },
  {
   "cell_type": "code",
   "execution_count": 174,
   "metadata": {},
   "outputs": [
    {
     "name": "stdout",
     "output_type": "stream",
     "text": [
      "5\n"
     ]
    }
   ],
   "source": [
    "note = \"i am student at PIAIC and I am learning AI\"\n",
    "substr= \"student\"\n",
    "# Return the lowest index in S where substring sub is found\n",
    "print(note.find(substr))"
   ]
  },
  {
   "cell_type": "code",
   "execution_count": 3,
   "metadata": {},
   "outputs": [
    {
     "name": "stdout",
     "output_type": "stream",
     "text": [
      "i am student at PIAIC and I am learning AI\n"
     ]
    }
   ],
   "source": [
    "note = \"i am student at {} and I am learning {}\"\n",
    "# Return a formatted version of S, using substitutions from args and kwargs.\n",
    "print(note.format(\"PIAIC\", \"AI\"))"
   ]
  },
  {
   "cell_type": "code",
   "execution_count": 5,
   "metadata": {},
   "outputs": [
    {
     "name": "stdout",
     "output_type": "stream",
     "text": [
      "i am student at PIAIC and I am learning AI\n"
     ]
    }
   ],
   "source": [
    "name= {'X': 'PIAIC', 'Y': 'AI'}\n",
    "note = \"i am student at {X} and I am learning {Y}\"\n",
    "# Return a formatted version of String, using substitutions from mapping.\n",
    "print(note.format_map(name))"
   ]
  },
  {
   "cell_type": "code",
   "execution_count": 208,
   "metadata": {},
   "outputs": [
    {
     "name": "stdout",
     "output_type": "stream",
     "text": [
      "2\n"
     ]
    }
   ],
   "source": [
    "note = \"i am student at PIAIC and I am learning AI\"\n",
    "substr= \"am\"\n",
    "# Return the lowest index in String where substring is found\n",
    "print(note.index(substr))"
   ]
  },
  {
   "cell_type": "code",
   "execution_count": 5,
   "metadata": {},
   "outputs": [
    {
     "name": "stdout",
     "output_type": "stream",
     "text": [
      "False\n",
      "True\n"
     ]
    }
   ],
   "source": [
    "note = \"i am student at PIAIC and I am learning AI\"\n",
    "# Return True if the string is an alpha-numeric string, False otherwise.\n",
    "print(note.isalnum())\n",
    "note1 = \"STA99\"\n",
    "print(note1.isalnum())"
   ]
  },
  {
   "cell_type": "code",
   "execution_count": 219,
   "metadata": {},
   "outputs": [
    {
     "name": "stdout",
     "output_type": "stream",
     "text": [
      "False\n",
      "True\n"
     ]
    }
   ],
   "source": [
    "note = \"i am student at PIAIC and I am learning AI\"\n",
    "# Return True if the string is an alphabetic string, False otherwise.\n",
    "print(note.isalpha())\n",
    "note1 = \"student\"\n",
    "print(note1.isalpha())"
   ]
  },
  {
   "cell_type": "code",
   "execution_count": 9,
   "metadata": {},
   "outputs": [
    {
     "name": "stdout",
     "output_type": "stream",
     "text": [
      "True\n"
     ]
    }
   ],
   "source": [
    "note = \"i am student at PIAIC and I am learning AI\"\n",
    "# Return True if all characters in the string are ASCII, False otherwise.\n",
    "print(note.isascii())"
   ]
  },
  {
   "cell_type": "code",
   "execution_count": 233,
   "metadata": {},
   "outputs": [
    {
     "name": "stdout",
     "output_type": "stream",
     "text": [
      "False\n",
      "True\n"
     ]
    }
   ],
   "source": [
    "note = \"i am student at PIAIC and I am learning AI\"\n",
    "# Return True if the string is a decimal string, False otherwise.\n",
    "print(note.isdecimal())\n",
    "number1 = \"01000001\"\n",
    "print(number1.isdecimal())"
   ]
  },
  {
   "cell_type": "code",
   "execution_count": 234,
   "metadata": {},
   "outputs": [
    {
     "name": "stdout",
     "output_type": "stream",
     "text": [
      "False\n",
      "True\n"
     ]
    }
   ],
   "source": [
    "note = \"i am student at PIAIC and I am learning AI\"\n",
    "# Return True if the string is a digit string, False otherwise.\n",
    "print(note.isdigit())\n",
    "number1 = \"648\"\n",
    "print(number1.isdigit())"
   ]
  },
  {
   "cell_type": "code",
   "execution_count": 235,
   "metadata": {},
   "outputs": [
    {
     "name": "stdout",
     "output_type": "stream",
     "text": [
      "False\n",
      "True\n"
     ]
    }
   ],
   "source": [
    "note = \"i am student at PIAIC and I am learning AI\"\n",
    "# Return True if the string is a valid Python identifier, False otherwise.\n",
    "print(note.isidentifier())\n",
    "idet= \"class\" #reserved keyword is python identifier\n",
    "print(idet.isidentifier())"
   ]
  },
  {
   "cell_type": "code",
   "execution_count": 238,
   "metadata": {},
   "outputs": [
    {
     "name": "stdout",
     "output_type": "stream",
     "text": [
      "False\n",
      "True\n"
     ]
    }
   ],
   "source": [
    "note = \"i am student at PIAIC and I am learning AI\"\n",
    "#  Return True if the string is a lowercase string, False otherwise.\n",
    "print(note.islower())\n",
    "name= \"ishra hussain\"\n",
    "print(name.islower())"
   ]
  },
  {
   "cell_type": "code",
   "execution_count": 239,
   "metadata": {},
   "outputs": [
    {
     "name": "stdout",
     "output_type": "stream",
     "text": [
      "False\n",
      "True\n"
     ]
    }
   ],
   "source": [
    "note = \"i am student at PIAIC and I am learning AI\"\n",
    "# Return True if the string is a numeric string, False otherwise.\n",
    "print(note.isnumeric())\n",
    "number1 = \"648\"\n",
    "print(number1.isnumeric())"
   ]
  },
  {
   "cell_type": "code",
   "execution_count": 240,
   "metadata": {},
   "outputs": [
    {
     "name": "stdout",
     "output_type": "stream",
     "text": [
      "True\n"
     ]
    }
   ],
   "source": [
    "note = \"i am student at PIAIC and I am learning AI\"\n",
    "# Return True if the string is printable, False otherwise.\n",
    "print(note.isprintable())"
   ]
  },
  {
   "cell_type": "code",
   "execution_count": 242,
   "metadata": {},
   "outputs": [
    {
     "name": "stdout",
     "output_type": "stream",
     "text": [
      "False\n",
      "True\n"
     ]
    }
   ],
   "source": [
    "note = \"i am student at PIAIC and I am learning AI\"\n",
    "# Return True if the string is a whitespace string, False otherwise.\n",
    "print(note.isspace())\n",
    "empt= \"      \"\n",
    "print(empt.isspace())"
   ]
  },
  {
   "cell_type": "code",
   "execution_count": 251,
   "metadata": {},
   "outputs": [
    {
     "name": "stdout",
     "output_type": "stream",
     "text": [
      "False\n",
      "True\n"
     ]
    }
   ],
   "source": [
    "note = \"i am student at PIAIC and I am learning AI\"\n",
    "# Return True if the string is a title-cased string, False otherwise.\n",
    "print(note.istitle())\n",
    "note1 = \"Presidential Initiative\"\n",
    "print(note1.istitle())"
   ]
  },
  {
   "cell_type": "code",
   "execution_count": 252,
   "metadata": {},
   "outputs": [
    {
     "name": "stdout",
     "output_type": "stream",
     "text": [
      "False\n",
      "True\n"
     ]
    }
   ],
   "source": [
    "note = \"i am student at PIAIC and I am learning AI\"\n",
    "# Return True if the string is an uppercase string, False otherwise.\n",
    "print(note.isupper())\n",
    "note1= \"LEARNING AI\"\n",
    "print(note1.isupper())"
   ]
  },
  {
   "cell_type": "code",
   "execution_count": 266,
   "metadata": {},
   "outputs": [
    {
     "name": "stdout",
     "output_type": "stream",
     "text": [
      "My name is Ishra. I am student at PIAIC and I am learning AI.\n"
     ]
    }
   ],
   "source": [
    "name= \"My name is Ishra\"\n",
    "note = \"I am student at PIAIC and I am learning AI.\"\n",
    "# Concatenate any number of strings.\n",
    "print('. '.join([name, note]))\n"
   ]
  },
  {
   "cell_type": "code",
   "execution_count": 12,
   "metadata": {},
   "outputs": [
    {
     "name": "stdout",
     "output_type": "stream",
     "text": [
      "I am student at PIAIC and I am learning AI**********************\n"
     ]
    }
   ],
   "source": [
    "note = \"I am student at PIAIC and I am learning AI\"\n",
    "# Return a left-justified string of length width.\n",
    "print(note.ljust(64, '*'))"
   ]
  },
  {
   "cell_type": "code",
   "execution_count": 14,
   "metadata": {},
   "outputs": [
    {
     "name": "stdout",
     "output_type": "stream",
     "text": [
      "i am student at piaic and i am learning ai\n"
     ]
    }
   ],
   "source": [
    "note = \"I am student at PIAIC and I am learning AI\"\n",
    "# Return a copy of the string converted to lowercase.\n",
    "print(note.lower())"
   ]
  },
  {
   "cell_type": "code",
   "execution_count": 18,
   "metadata": {},
   "outputs": [
    {
     "name": "stdout",
     "output_type": "stream",
     "text": [
      "I am student at PIAIC and I am learning AI*******\n"
     ]
    }
   ],
   "source": [
    "note = \"******I am student at PIAIC and I am learning AI*******\"\n",
    "# Return a copy of the string with leading whitespace removed from left, \n",
    "# If chars is given and not None, remove characters in chars instead.\n",
    "print(note.lstrip('*'))"
   ]
  },
  {
   "cell_type": "code",
   "execution_count": 35,
   "metadata": {},
   "outputs": [
    {
     "name": "stdout",
     "output_type": "stream",
     "text": [
      "('I am Ishra', '.', 'I am student at PIAIC.I am learning AI')\n"
     ]
    }
   ],
   "source": [
    "note = \"I am Ishra.I am student at PIAIC.I am learning AI\"\n",
    "# Partition the string into three parts using the given separator.\n",
    "print(note.partition('.'))"
   ]
  },
  {
   "cell_type": "code",
   "execution_count": 22,
   "metadata": {},
   "outputs": [
    {
     "name": "stdout",
     "output_type": "stream",
     "text": [
      "I*am*student*at*PIAIC*and*I*am*learning*AI\n"
     ]
    }
   ],
   "source": [
    "note = \"I am student at PIAIC and I am learning AI\"\n",
    "# Return a copy with all occurrences of substring old replaced by new.\n",
    "print(note.replace(' ', '*', -1))"
   ]
  },
  {
   "cell_type": "code",
   "execution_count": 24,
   "metadata": {},
   "outputs": [
    {
     "name": "stdout",
     "output_type": "stream",
     "text": [
      "5\n"
     ]
    }
   ],
   "source": [
    "note = \"I am student at PIAIC and I am learning AI\"\n",
    "substr= \"student\"\n",
    "# Return the highest index in S where substring sub is found\n",
    "print(note.rfind(substr))"
   ]
  },
  {
   "cell_type": "code",
   "execution_count": 26,
   "metadata": {},
   "outputs": [
    {
     "name": "stdout",
     "output_type": "stream",
     "text": [
      "28\n"
     ]
    }
   ],
   "source": [
    "note = \"I am student at PIAIC and I am learning AI\"\n",
    "substr= \"am\"\n",
    "# Return the highest index in S where substring sub is found\n",
    "print(note.rindex(substr))"
   ]
  },
  {
   "cell_type": "code",
   "execution_count": 29,
   "metadata": {},
   "outputs": [
    {
     "name": "stdout",
     "output_type": "stream",
     "text": [
      "******************I am student at PIAIC and I am learning AI\n"
     ]
    }
   ],
   "source": [
    "note = \"I am student at PIAIC and I am learning AI\"\n",
    "#Return a right-justified string of length width.\n",
    "print(note.rjust(60, '*'))"
   ]
  },
  {
   "cell_type": "code",
   "execution_count": 34,
   "metadata": {},
   "outputs": [
    {
     "name": "stdout",
     "output_type": "stream",
     "text": [
      "('I am Ishra. I am student at PIAIC', '.', 'I am learning AI')\n"
     ]
    }
   ],
   "source": [
    "note = \"I am Ishra. I am student at PIAIC.I am learning AI\"\n",
    "# Partition the string into three parts using the given separator.\n",
    "print(note.rpartition('.'))"
   ]
  },
  {
   "cell_type": "code",
   "execution_count": 37,
   "metadata": {},
   "outputs": [
    {
     "name": "stdout",
     "output_type": "stream",
     "text": [
      "['I am Ishra', 'I am student at PIAIC', 'I am learning AI']\n"
     ]
    }
   ],
   "source": [
    "note = \"I am Ishra.I am student at PIAIC.I am learning AI\"\n",
    "#  Return a list of the words in the string, using sep as the delimiter string.\n",
    "print(note.rsplit('.'))"
   ]
  },
  {
   "cell_type": "code",
   "execution_count": 38,
   "metadata": {},
   "outputs": [
    {
     "name": "stdout",
     "output_type": "stream",
     "text": [
      "******I am student at PIAIC and I am learning AI\n"
     ]
    }
   ],
   "source": [
    "note = \"******I am student at PIAIC and I am learning AI*******\"\n",
    "# Return a copy of the string with leading whitespace removed from right, \n",
    "# If chars is given and not None, remove characters in chars instead.\n",
    "print(note.rstrip('*'))"
   ]
  },
  {
   "cell_type": "code",
   "execution_count": 39,
   "metadata": {},
   "outputs": [
    {
     "name": "stdout",
     "output_type": "stream",
     "text": [
      "['I am Ishra', 'I am student at PIAIC', 'I am learning AI']\n"
     ]
    }
   ],
   "source": [
    "note = \"I am Ishra.I am student at PIAIC.I am learning AI\"\n",
    "#  Return a list of the words in the string, using sep as the delimiter string.\n",
    "print(note.split('.'))"
   ]
  },
  {
   "cell_type": "code",
   "execution_count": 43,
   "metadata": {},
   "outputs": [
    {
     "name": "stdout",
     "output_type": "stream",
     "text": [
      "['I am Ishra.I am student at PIAIC.I am learning AI']\n"
     ]
    }
   ],
   "source": [
    "note = \"I am Ishra.I am student at PIAIC.I am learning AI\"\n",
    "#  Return a list of the lines in the string, breaking at line boundaries.\n",
    "print(note.splitlines())"
   ]
  },
  {
   "cell_type": "code",
   "execution_count": 45,
   "metadata": {},
   "outputs": [
    {
     "name": "stdout",
     "output_type": "stream",
     "text": [
      "False\n",
      "True\n"
     ]
    }
   ],
   "source": [
    "note = \"I am student at PIAIC and I am learning AI\"\n",
    "substr= \"am\"\n",
    "# Return True if S starts with the specified prefix, False otherwise.\n",
    "print(note.startswith(substr))\n",
    "substr= \"I\"\n",
    "print(note.startswith(substr))"
   ]
  },
  {
   "cell_type": "code",
   "execution_count": 46,
   "metadata": {},
   "outputs": [
    {
     "name": "stdout",
     "output_type": "stream",
     "text": [
      "I am student at PIAIC and I am learning AI\n"
     ]
    }
   ],
   "source": [
    "note = \"******I am student at PIAIC and I am learning AI*******\"\n",
    "# Return a copy of the string with leading whitespace removed from both right and left, \n",
    "# If chars is given and not None, remove characters in chars instead.\n",
    "print(note.strip('*'))"
   ]
  },
  {
   "cell_type": "code",
   "execution_count": 47,
   "metadata": {},
   "outputs": [
    {
     "name": "stdout",
     "output_type": "stream",
     "text": [
      "i AM STUDENT AT piaic AND i AM LEARNING ai\n"
     ]
    }
   ],
   "source": [
    "note = \"I am student at PIAIC and I am learning AI\"\n",
    "#Convert uppercase characters to lowercase and lowercase characters to uppercase.\n",
    "print(note.swapcase())"
   ]
  },
  {
   "cell_type": "code",
   "execution_count": 48,
   "metadata": {},
   "outputs": [
    {
     "name": "stdout",
     "output_type": "stream",
     "text": [
      "I Am Student At Piaic And I Am Learning Ai\n"
     ]
    }
   ],
   "source": [
    "note = \"I am student at PIAIC and I am learning AI\"\n",
    "# Return a version of the string where each word is titlecased.\n",
    "print(note.title())"
   ]
  },
  {
   "cell_type": "code",
   "execution_count": 60,
   "metadata": {},
   "outputs": [
    {
     "name": "stdout",
     "output_type": "stream",
     "text": [
      "I 1m stu4ent 1t PIAIC 1n4 I 1m le1rning AI\n"
     ]
    }
   ],
   "source": [
    "note = \"I am student at PIAIC and I am learning AI\"\n",
    "input_table = \"abcd\"\n",
    "output_table = \"1234\"\n",
    "trans_table = note.maketrans(input_table, output_table)\n",
    "# Replace each character in the string using the given translation table.\n",
    "print(note.translate(trans_table))"
   ]
  },
  {
   "cell_type": "code",
   "execution_count": 50,
   "metadata": {},
   "outputs": [
    {
     "name": "stdout",
     "output_type": "stream",
     "text": [
      "I AM STUDENT AT PIAIC AND I AM LEARNING AI\n"
     ]
    }
   ],
   "source": [
    "note = \"I am student at PIAIC and I am learning AI\"\n",
    "# Return a copy of the string converted to uppercase.\n",
    "print(note.upper())"
   ]
  },
  {
   "cell_type": "code",
   "execution_count": 53,
   "metadata": {},
   "outputs": [
    {
     "name": "stdout",
     "output_type": "stream",
     "text": [
      "000000001234567\n"
     ]
    }
   ],
   "source": [
    "note = \"1234567\"\n",
    "#Pad a numeric string with zeros on the left, to fill a field of the given width.\n",
    "print(note.zfill(15))"
   ]
  },
  {
   "cell_type": "code",
   "execution_count": null,
   "metadata": {},
   "outputs": [],
   "source": []
  }
 ],
 "metadata": {
  "kernelspec": {
   "display_name": "Python 3",
   "language": "python",
   "name": "python3"
  },
  "language_info": {
   "codemirror_mode": {
    "name": "ipython",
    "version": 3
   },
   "file_extension": ".py",
   "mimetype": "text/x-python",
   "name": "python",
   "nbconvert_exporter": "python",
   "pygments_lexer": "ipython3",
   "version": "3.7.3"
  }
 },
 "nbformat": 4,
 "nbformat_minor": 2
}
